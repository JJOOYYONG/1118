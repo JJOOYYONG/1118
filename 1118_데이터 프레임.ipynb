{
 "cells": [
  {
   "cell_type": "code",
   "execution_count": 1,
   "metadata": {},
   "outputs": [],
   "source": [
    "import numpy as np\n",
    "import pandas as pd"
   ]
  },
  {
   "cell_type": "code",
   "execution_count": 2,
   "metadata": {},
   "outputs": [
    {
     "name": "stdout",
     "output_type": "stream",
     "text": [
      "{'name': ['Kim', 'Lee', 'Choi', 'Park'], 'Point': [50, 60, 75, 70], 'year': [2017, 2016, 2017, 2018]}\n",
      "   name  Point  year\n",
      "0   Kim     50  2017\n",
      "1   Lee     60  2016\n",
      "2  Choi     75  2017\n",
      "3  Park     70  2018\n",
      "None\n",
      "Index(['name', 'Point', 'year'], dtype='object')\n"
     ]
    }
   ],
   "source": [
    "data={'name':['Kim','Lee','Choi','Park'],\n",
    "      'Point':[50,60,75,70],\n",
    "      'year':[2017,2016,2017,2018]}\n",
    "print(data)\n",
    "df=pd.DataFrame(data)\n",
    "print(df)\n",
    "print(df.index.name)\n",
    "print(df.columns)\n",
    "df.columns.name='Info'\n",
    "df.index.name='Num'\n"
   ]
  },
  {
   "cell_type": "code",
   "execution_count": 3,
   "metadata": {},
   "outputs": [
    {
     "data": {
      "text/html": [
       "<div>\n",
       "<style scoped>\n",
       "    .dataframe tbody tr th:only-of-type {\n",
       "        vertical-align: middle;\n",
       "    }\n",
       "\n",
       "    .dataframe tbody tr th {\n",
       "        vertical-align: top;\n",
       "    }\n",
       "\n",
       "    .dataframe thead th {\n",
       "        text-align: right;\n",
       "    }\n",
       "</style>\n",
       "<table border=\"1\" class=\"dataframe\">\n",
       "  <thead>\n",
       "    <tr style=\"text-align: right;\">\n",
       "      <th></th>\n",
       "      <th>names</th>\n",
       "      <th>years</th>\n",
       "      <th>points</th>\n",
       "    </tr>\n",
       "  </thead>\n",
       "  <tbody>\n",
       "    <tr>\n",
       "      <td>one</td>\n",
       "      <td>Kim</td>\n",
       "      <td>2014</td>\n",
       "      <td>1.5</td>\n",
       "    </tr>\n",
       "    <tr>\n",
       "      <td>two</td>\n",
       "      <td>Lee</td>\n",
       "      <td>2015</td>\n",
       "      <td>1.7</td>\n",
       "    </tr>\n",
       "    <tr>\n",
       "      <td>three</td>\n",
       "      <td>Park</td>\n",
       "      <td>2016</td>\n",
       "      <td>3.6</td>\n",
       "    </tr>\n",
       "    <tr>\n",
       "      <td>four</td>\n",
       "      <td>Hong</td>\n",
       "      <td>2015</td>\n",
       "      <td>2.4</td>\n",
       "    </tr>\n",
       "    <tr>\n",
       "      <td>five</td>\n",
       "      <td>Park</td>\n",
       "      <td>2016</td>\n",
       "      <td>2.9</td>\n",
       "    </tr>\n",
       "  </tbody>\n",
       "</table>\n",
       "</div>"
      ],
      "text/plain": [
       "      names  years  points\n",
       "one     Kim   2014     1.5\n",
       "two     Lee   2015     1.7\n",
       "three  Park   2016     3.6\n",
       "four   Hong   2015     2.4\n",
       "five   Park   2016     2.9"
      ]
     },
     "execution_count": 3,
     "metadata": {},
     "output_type": "execute_result"
    }
   ],
   "source": [
    "data={'names':['Kim','Lee','Park','Hong','Park'],\n",
    "      'years':[2014,2015,2016,2015,2016],\n",
    "      'points':[1.5,1.7,3.6,2.4,2.9]}\n",
    "df=pd.DataFrame(data)\n",
    "df\n",
    "df2=pd.DataFrame(data,columns=['years','names','points','penalty'],\n",
    "                 index=['one','two','three','four','five'])\n",
    "df2.penalty=[0.1,0.2,0.3,0.4,0.5]\n",
    "df2['penalty']=1.0\n",
    "df2['zero']=0\n",
    "df2.names\n",
    "df2[['names','years','points']]"
   ]
  },
  {
   "cell_type": "code",
   "execution_count": 4,
   "metadata": {},
   "outputs": [
    {
     "name": "stdout",
     "output_type": "stream",
     "text": [
      "       years names  points\n",
      "two     2015   Lee     1.7\n",
      "three   2016  Park     3.6\n",
      "four    2015  Hong     2.4\n",
      "five    2016  Park     2.9\n"
     ]
    }
   ],
   "source": [
    "print(df2.loc['two':,'years':'points'])"
   ]
  },
  {
   "cell_type": "code",
   "execution_count": 5,
   "metadata": {},
   "outputs": [
    {
     "data": {
      "text/html": [
       "<div>\n",
       "<style scoped>\n",
       "    .dataframe tbody tr th:only-of-type {\n",
       "        vertical-align: middle;\n",
       "    }\n",
       "\n",
       "    .dataframe tbody tr th {\n",
       "        vertical-align: top;\n",
       "    }\n",
       "\n",
       "    .dataframe thead th {\n",
       "        text-align: right;\n",
       "    }\n",
       "</style>\n",
       "<table border=\"1\" class=\"dataframe\">\n",
       "  <thead>\n",
       "    <tr style=\"text-align: right;\">\n",
       "      <th></th>\n",
       "      <th>years</th>\n",
       "      <th>names</th>\n",
       "      <th>points</th>\n",
       "      <th>penalty</th>\n",
       "      <th>zero</th>\n",
       "    </tr>\n",
       "  </thead>\n",
       "  <tbody>\n",
       "    <tr>\n",
       "      <td>one</td>\n",
       "      <td>2014</td>\n",
       "      <td>Kim</td>\n",
       "      <td>1.5</td>\n",
       "      <td>0.1</td>\n",
       "      <td>0</td>\n",
       "    </tr>\n",
       "    <tr>\n",
       "      <td>two</td>\n",
       "      <td>2015</td>\n",
       "      <td>Lee</td>\n",
       "      <td>1.7</td>\n",
       "      <td>0.2</td>\n",
       "      <td>0</td>\n",
       "    </tr>\n",
       "    <tr>\n",
       "      <td>three</td>\n",
       "      <td>2016</td>\n",
       "      <td>Park</td>\n",
       "      <td>3.6</td>\n",
       "      <td>0.3</td>\n",
       "      <td>0</td>\n",
       "    </tr>\n",
       "    <tr>\n",
       "      <td>four</td>\n",
       "      <td>2015</td>\n",
       "      <td>Hong</td>\n",
       "      <td>2.4</td>\n",
       "      <td>0.4</td>\n",
       "      <td>0</td>\n",
       "    </tr>\n",
       "    <tr>\n",
       "      <td>five</td>\n",
       "      <td>2016</td>\n",
       "      <td>Park</td>\n",
       "      <td>2.9</td>\n",
       "      <td>0.5</td>\n",
       "      <td>0</td>\n",
       "    </tr>\n",
       "  </tbody>\n",
       "</table>\n",
       "</div>"
      ],
      "text/plain": [
       "       years names  points  penalty  zero\n",
       "one     2014   Kim     1.5      0.1     0\n",
       "two     2015   Lee     1.7      0.2     0\n",
       "three   2016  Park     3.6      0.3     0\n",
       "four    2015  Hong     2.4      0.4     0\n",
       "five    2016  Park     2.9      0.5     0"
      ]
     },
     "execution_count": 5,
     "metadata": {},
     "output_type": "execute_result"
    }
   ],
   "source": [
    "df2.penalty=[0.1,0.2,0.3,0.4,0.5]\n",
    "df2['heigh_point']=df2.points>2.0\n",
    "df2\n",
    "val=pd.Series([-1.2,-1.5,-1.7],index=['two','four','five'])\n",
    "df2['aaa']=val\n",
    "df2['bbb']=0.3\n",
    "df2.bbb=[1,2,3,4,5]\n",
    "del df2['bbb']\n",
    "df2\n",
    "del df2['heigh_point']\n",
    "del df2['aaa']\n",
    "df2"
   ]
  },
  {
   "cell_type": "code",
   "execution_count": 6,
   "metadata": {},
   "outputs": [
    {
     "ename": "ValueError",
     "evalue": "cannot set a row with mismatched columns",
     "output_type": "error",
     "traceback": [
      "\u001b[1;31m---------------------------------------------------------------------------\u001b[0m",
      "\u001b[1;31mValueError\u001b[0m                                Traceback (most recent call last)",
      "\u001b[1;32m<ipython-input-6-94ad10b1eb9b>\u001b[0m in \u001b[0;36m<module>\u001b[1;34m\u001b[0m\n\u001b[1;32m----> 1\u001b[1;33m \u001b[0mdf2\u001b[0m\u001b[1;33m.\u001b[0m\u001b[0mloc\u001b[0m\u001b[1;33m[\u001b[0m\u001b[1;34m'six'\u001b[0m\u001b[1;33m]\u001b[0m\u001b[1;33m=\u001b[0m\u001b[1;33m[\u001b[0m\u001b[1;36m2013\u001b[0m\u001b[1;33m,\u001b[0m\u001b[1;34m'Jun'\u001b[0m\u001b[1;33m,\u001b[0m\u001b[1;36m4.3\u001b[0m\u001b[1;33m,\u001b[0m\u001b[1;36m2.0\u001b[0m\u001b[1;33m]\u001b[0m\u001b[1;33m\u001b[0m\u001b[1;33m\u001b[0m\u001b[0m\n\u001b[0m\u001b[0;32m      2\u001b[0m \u001b[0mdf2\u001b[0m\u001b[1;33m\u001b[0m\u001b[1;33m\u001b[0m\u001b[0m\n",
      "\u001b[1;32m~\\Anaconda3\\lib\\site-packages\\pandas\\core\\indexing.py\u001b[0m in \u001b[0;36m__setitem__\u001b[1;34m(self, key, value)\u001b[0m\n\u001b[0;32m    203\u001b[0m             \u001b[0mkey\u001b[0m \u001b[1;33m=\u001b[0m \u001b[0mcom\u001b[0m\u001b[1;33m.\u001b[0m\u001b[0mapply_if_callable\u001b[0m\u001b[1;33m(\u001b[0m\u001b[0mkey\u001b[0m\u001b[1;33m,\u001b[0m \u001b[0mself\u001b[0m\u001b[1;33m.\u001b[0m\u001b[0mobj\u001b[0m\u001b[1;33m)\u001b[0m\u001b[1;33m\u001b[0m\u001b[1;33m\u001b[0m\u001b[0m\n\u001b[0;32m    204\u001b[0m         \u001b[0mindexer\u001b[0m \u001b[1;33m=\u001b[0m \u001b[0mself\u001b[0m\u001b[1;33m.\u001b[0m\u001b[0m_get_setitem_indexer\u001b[0m\u001b[1;33m(\u001b[0m\u001b[0mkey\u001b[0m\u001b[1;33m)\u001b[0m\u001b[1;33m\u001b[0m\u001b[1;33m\u001b[0m\u001b[0m\n\u001b[1;32m--> 205\u001b[1;33m         \u001b[0mself\u001b[0m\u001b[1;33m.\u001b[0m\u001b[0m_setitem_with_indexer\u001b[0m\u001b[1;33m(\u001b[0m\u001b[0mindexer\u001b[0m\u001b[1;33m,\u001b[0m \u001b[0mvalue\u001b[0m\u001b[1;33m)\u001b[0m\u001b[1;33m\u001b[0m\u001b[1;33m\u001b[0m\u001b[0m\n\u001b[0m\u001b[0;32m    206\u001b[0m \u001b[1;33m\u001b[0m\u001b[0m\n\u001b[0;32m    207\u001b[0m     \u001b[1;32mdef\u001b[0m \u001b[0m_validate_key\u001b[0m\u001b[1;33m(\u001b[0m\u001b[0mself\u001b[0m\u001b[1;33m,\u001b[0m \u001b[0mkey\u001b[0m\u001b[1;33m,\u001b[0m \u001b[0maxis\u001b[0m\u001b[1;33m:\u001b[0m \u001b[0mint\u001b[0m\u001b[1;33m)\u001b[0m\u001b[1;33m:\u001b[0m\u001b[1;33m\u001b[0m\u001b[1;33m\u001b[0m\u001b[0m\n",
      "\u001b[1;32m~\\Anaconda3\\lib\\site-packages\\pandas\\core\\indexing.py\u001b[0m in \u001b[0;36m_setitem_with_indexer\u001b[1;34m(self, indexer, value)\u001b[0m\n\u001b[0;32m    404\u001b[0m \u001b[1;33m\u001b[0m\u001b[0m\n\u001b[0;32m    405\u001b[0m             \u001b[1;32mif\u001b[0m \u001b[0mmissing\u001b[0m\u001b[1;33m:\u001b[0m\u001b[1;33m\u001b[0m\u001b[1;33m\u001b[0m\u001b[0m\n\u001b[1;32m--> 406\u001b[1;33m                 \u001b[1;32mreturn\u001b[0m \u001b[0mself\u001b[0m\u001b[1;33m.\u001b[0m\u001b[0m_setitem_with_indexer_missing\u001b[0m\u001b[1;33m(\u001b[0m\u001b[0mindexer\u001b[0m\u001b[1;33m,\u001b[0m \u001b[0mvalue\u001b[0m\u001b[1;33m)\u001b[0m\u001b[1;33m\u001b[0m\u001b[1;33m\u001b[0m\u001b[0m\n\u001b[0m\u001b[0;32m    407\u001b[0m \u001b[1;33m\u001b[0m\u001b[0m\n\u001b[0;32m    408\u001b[0m         \u001b[1;31m# set\u001b[0m\u001b[1;33m\u001b[0m\u001b[1;33m\u001b[0m\u001b[1;33m\u001b[0m\u001b[0m\n",
      "\u001b[1;32m~\\Anaconda3\\lib\\site-packages\\pandas\\core\\indexing.py\u001b[0m in \u001b[0;36m_setitem_with_indexer_missing\u001b[1;34m(self, indexer, value)\u001b[0m\n\u001b[0;32m    645\u001b[0m                     \u001b[1;31m# must have conforming columns\u001b[0m\u001b[1;33m\u001b[0m\u001b[1;33m\u001b[0m\u001b[1;33m\u001b[0m\u001b[0m\n\u001b[0;32m    646\u001b[0m                     \u001b[1;32mif\u001b[0m \u001b[0mlen\u001b[0m\u001b[1;33m(\u001b[0m\u001b[0mvalue\u001b[0m\u001b[1;33m)\u001b[0m \u001b[1;33m!=\u001b[0m \u001b[0mlen\u001b[0m\u001b[1;33m(\u001b[0m\u001b[0mself\u001b[0m\u001b[1;33m.\u001b[0m\u001b[0mobj\u001b[0m\u001b[1;33m.\u001b[0m\u001b[0mcolumns\u001b[0m\u001b[1;33m)\u001b[0m\u001b[1;33m:\u001b[0m\u001b[1;33m\u001b[0m\u001b[1;33m\u001b[0m\u001b[0m\n\u001b[1;32m--> 647\u001b[1;33m                         \u001b[1;32mraise\u001b[0m \u001b[0mValueError\u001b[0m\u001b[1;33m(\u001b[0m\u001b[1;34m\"cannot set a row with mismatched columns\"\u001b[0m\u001b[1;33m)\u001b[0m\u001b[1;33m\u001b[0m\u001b[1;33m\u001b[0m\u001b[0m\n\u001b[0m\u001b[0;32m    648\u001b[0m \u001b[1;33m\u001b[0m\u001b[0m\n\u001b[0;32m    649\u001b[0m                 \u001b[0mvalue\u001b[0m \u001b[1;33m=\u001b[0m \u001b[0mSeries\u001b[0m\u001b[1;33m(\u001b[0m\u001b[0mvalue\u001b[0m\u001b[1;33m,\u001b[0m \u001b[0mindex\u001b[0m\u001b[1;33m=\u001b[0m\u001b[0mself\u001b[0m\u001b[1;33m.\u001b[0m\u001b[0mobj\u001b[0m\u001b[1;33m.\u001b[0m\u001b[0mcolumns\u001b[0m\u001b[1;33m,\u001b[0m \u001b[0mname\u001b[0m\u001b[1;33m=\u001b[0m\u001b[0mindexer\u001b[0m\u001b[1;33m)\u001b[0m\u001b[1;33m\u001b[0m\u001b[1;33m\u001b[0m\u001b[0m\n",
      "\u001b[1;31mValueError\u001b[0m: cannot set a row with mismatched columns"
     ]
    }
   ],
   "source": [
    "df2.loc['six']=[2013,'Jun',4.3,2.0]\n",
    "df2"
   ]
  },
  {
   "cell_type": "code",
   "execution_count": null,
   "metadata": {},
   "outputs": [],
   "source": [
    "df2.iloc[[1,3,5],[0,2]]"
   ]
  },
  {
   "cell_type": "code",
   "execution_count": null,
   "metadata": {},
   "outputs": [],
   "source": [
    "df2.loc[df2['points']>3,'penalty']=0\n",
    "df2['aaa']=0\n",
    "df2"
   ]
  },
  {
   "cell_type": "code",
   "execution_count": null,
   "metadata": {},
   "outputs": [],
   "source": [
    "df2.loc[(df2['years']>2015) & (df2['points']>3),'aaa']=15\n",
    "df2"
   ]
  },
  {
   "cell_type": "code",
   "execution_count": null,
   "metadata": {},
   "outputs": [],
   "source": [
    "print(df2.loc[df2['years']>2014,['names','points']])"
   ]
  },
  {
   "cell_type": "code",
   "execution_count": null,
   "metadata": {},
   "outputs": [],
   "source": [
    "df=pd.DataFrame(np.random.rand(6,4))\n",
    "df.columns=['A','B','C','D']\n",
    "df.index=pd.date_range('20191110',periods=6)\n",
    "df"
   ]
  },
  {
   "cell_type": "code",
   "execution_count": null,
   "metadata": {},
   "outputs": [],
   "source": [
    "#NaN\n",
    "df['F']=[1.0,np.nan,3.5,6.1,np.nan,7.0]\n",
    "df"
   ]
  },
  {
   "cell_type": "code",
   "execution_count": null,
   "metadata": {},
   "outputs": [],
   "source": [
    "df1=df.dropna(how='all')\n",
    "df1"
   ]
  },
  {
   "cell_type": "code",
   "execution_count": null,
   "metadata": {},
   "outputs": [],
   "source": [
    "df1=df.fillna(value=0.5)\n",
    "df1\n",
    "df.isnull()\n",
    "df.loc[df.isnull()['F'],:]"
   ]
  },
  {
   "cell_type": "code",
   "execution_count": null,
   "metadata": {},
   "outputs": [],
   "source": [
    "pd.to_datetime('20191118')"
   ]
  },
  {
   "cell_type": "code",
   "execution_count": null,
   "metadata": {},
   "outputs": [],
   "source": [
    "df1=df.drop(pd.to_datetime('20191110'))\n",
    "df"
   ]
  },
  {
   "cell_type": "code",
   "execution_count": null,
   "metadata": {},
   "outputs": [],
   "source": [
    "#행 삭제\n",
    "#원본 df 는 영향을 받지 않는다.\n",
    "df1=df.drop('F',axis=1)\n",
    "df\n",
    "\n",
    "#다중 행 삭제하기\n",
    "df1=df.drop(['D','F'],axis=1)\n",
    "df1"
   ]
  },
  {
   "cell_type": "code",
   "execution_count": null,
   "metadata": {},
   "outputs": [],
   "source": [
    "print(df.sum(axis=0,skipna=False))\n",
    "print(df.sum(axis=1,skipna=False))\n",
    "\n",
    "print(df['A'].sum())\n",
    "print(df[pd.to_datetime('20191110')].sum())"
   ]
  },
  {
   "cell_type": "code",
   "execution_count": null,
   "metadata": {},
   "outputs": [],
   "source": [
    "df.describe()"
   ]
  },
  {
   "cell_type": "code",
   "execution_count": null,
   "metadata": {},
   "outputs": [],
   "source": [
    "df2=pd.DataFrame(np.random.rand(6,4),columns=['A','B','C','D'],\n",
    "                index=pd.date_range('20190701',periods=6))\n",
    "df2['A'].value_counts()\n",
    "\n",
    "data={'A':[1,2,1,4],'B':['a','b','a','c']}\n",
    "df=pd.DataFrame(data)\n",
    "df['B'].value_counts()\n",
    "df.sort_values(by='A',ascending=False)\n"
   ]
  },
  {
   "cell_type": "code",
   "execution_count": null,
   "metadata": {},
   "outputs": [],
   "source": [
    "df3=pd.DataFrame(np.random.rand(4,3),columns=['b','d','e'],\n",
    "                 index=['Seoul','Incheon','Busan','Daegu'])\n",
    "df3"
   ]
  },
  {
   "cell_type": "code",
   "execution_count": null,
   "metadata": {},
   "outputs": [],
   "source": [
    "df3.sort_index(axis=0)"
   ]
  },
  {
   "cell_type": "code",
   "execution_count": null,
   "metadata": {},
   "outputs": [],
   "source": [
    "#func=lambda x:x.max()-x.min()\n",
    "\n",
    "def func(x):\n",
    "    return x.max()-x.min()\n",
    "print(df3.max(axis=0))\n",
    "print(df3.min(axis=0))\n",
    "df3.apply(func,axis=0)"
   ]
  },
  {
   "cell_type": "code",
   "execution_count": 8,
   "metadata": {},
   "outputs": [
    {
     "name": "stdout",
     "output_type": "stream",
     "text": [
      "['Supplier Name', 'Invoice Number', 'Part Number', 'Cost', 'Purchase Date']\n",
      "['A', '001-1001', '2341', '\"$500', '000\"', '2014-01-20']\n",
      "['A', '001-1001', '5467', '500000', '2014-01-20']\n",
      "['A', '001-1001', '5407', '750000', '2014-01-20']\n",
      "['A', '001-1001', '2341', '750000', '2014-01-20']\n",
      "['B', '50-9501', '7009', '250000', '2018-01-30']\n",
      "['B', '50-9501', '7009', '250000', '2018-01-30']\n",
      "['B', '50-9505', '6650', '125000', '2017-02-03']\n",
      "['B', '50-9505', '6650', '125000', '2017-02-03']\n",
      "['C', '920-4803', '3321', '615000', '2017-02-03']\n",
      "['C', '920-4804', '3321', '615000', '2017-02-10']\n",
      "['C', '920-4805', '3321', '615000', '2017-02-17']\n",
      "['C', '920-4806', '3321', '615000', '2017-02-24']\n"
     ]
    }
   ],
   "source": [
    "input_file=\"data/input.csv\"\n",
    "output_file=\"data/output1.csv\"\n",
    "with open(input_file,'r',newline='')as reader:\n",
    "    with open(output_file,'w',newline='')as writer:\n",
    "        header=reader.readline()\n",
    "        header=header.strip()\n",
    "        header_list=header.split(',')\n",
    "        print(header_list)\n",
    "        writer.write(','.join(map(str,header_list))+\"\\n\")\n",
    "        for row in reader:\n",
    "            row=row.strip()\n",
    "            row_list=row.split(',')\n",
    "            print(row_list)\n",
    "            writer.write(','.join(map(str,row_list))+\"\\n\")"
   ]
  },
  {
   "cell_type": "code",
   "execution_count": 10,
   "metadata": {},
   "outputs": [
    {
     "name": "stdout",
     "output_type": "stream",
     "text": [
      "   Supplier Name Invoice Number  Part Number      Cost Purchase Date\n",
      "0              A       001-1001         2341  $500,000    2014-01-20\n",
      "1              A       001-1001         5467    500000    2014-01-20\n",
      "2              A       001-1001         5407    750000    2014-01-20\n",
      "3              A       001-1001         2341    750000    2014-01-20\n",
      "4              B        50-9501         7009    250000    2018-01-30\n",
      "5              B        50-9501         7009    250000    2018-01-30\n",
      "6              B        50-9505         6650    125000    2017-02-03\n",
      "7              B        50-9505         6650    125000    2017-02-03\n",
      "8              C       920-4803         3321    615000    2017-02-03\n",
      "9              C       920-4804         3321    615000    2017-02-10\n",
      "10             C       920-4805         3321    615000    2017-02-17\n",
      "11             C       920-4806         3321    615000    2017-02-24\n"
     ]
    }
   ],
   "source": [
    "#pandas 사용 파일 처리\n",
    "import sys\n",
    "imput_file=\"data/input.csv\"\n",
    "output_file=\"data/input2.csv\"\n",
    "data_frame=pd.read_csv(input_file)\n",
    "print(data_frame)\n",
    "data_frame.to_csv(output_file,index=False)"
   ]
  },
  {
   "cell_type": "code",
   "execution_count": 11,
   "metadata": {},
   "outputs": [
    {
     "name": "stdout",
     "output_type": "stream",
     "text": [
      "['Supplier Name', 'Invoice Number', 'Part Number', 'Cost', 'Purchase Date']\n",
      "['A', '001-1001', '2341', '$500,000', '2014-01-20']\n",
      "['A', '001-1001', '5467', '500000', '2014-01-20']\n",
      "['A', '001-1001', '5407', '750000', '2014-01-20']\n",
      "['A', '001-1001', '2341', '750000', '2014-01-20']\n",
      "['B', '50-9501', '7009', '250000', '2018-01-30']\n",
      "['B', '50-9501', '7009', '250000', '2018-01-30']\n",
      "['B', '50-9505', '6650', '125000', '2017-02-03']\n",
      "['B', '50-9505', '6650', '125000', '2017-02-03']\n",
      "['C', '920-4803', '3321', '615000', '2017-02-03']\n",
      "['C', '920-4804', '3321', '615000', '2017-02-10']\n",
      "['C', '920-4805', '3321', '615000', '2017-02-17']\n",
      "['C', '920-4806', '3321', '615000', '2017-02-24']\n"
     ]
    }
   ],
   "source": [
    "#파이썬에 내장된 csv 포듈 사용파일 처리\n",
    "import csv\n",
    "input_file=\"data/input.csv\"\n",
    "output_file=\"data/output3.csv\"\n",
    "with open(input_file,'r',newline='')as csv_in_file:\n",
    "    with open(output_file,'w',newline='')as csv_out_file:\n",
    "        filereader=csv.reader(csv_in_file,delimiter=',')\n",
    "        filewriter=csv.writer(csv_out_file,delimiter=',')\n",
    "        \n",
    "        for row_list in filereader:\n",
    "            print(row_list)\n",
    "            filewriter.writerow(row_list)"
   ]
  },
  {
   "cell_type": "code",
   "execution_count": 17,
   "metadata": {},
   "outputs": [
    {
     "name": "stdout",
     "output_type": "stream",
     "text": [
      "['A', '001-1001', '5407', '750000', '2014-01-20']\n",
      "['A', '001-1001', '2341', '750000', '2014-01-20']\n"
     ]
    }
   ],
   "source": [
    "#파이썬에 내장된 csv 포듈 사용파일 처리\n",
    "import csv\n",
    "input_file=\"data/input.csv\"\n",
    "output_file=\"data/output4.csv\"\n",
    "with open(input_file,'r',newline='')as csv_in_file:\n",
    "    with open(output_file,'w',newline='')as csv_out_file:\n",
    "        filereader=csv.reader(csv_in_file,delimiter=',')\n",
    "        filewriter=csv.writer(csv_out_file,delimiter=',')\n",
    "        header=next(filereader)\n",
    "        filewriter.writerow(header)\n",
    "        \n",
    "        for row in filereader:\n",
    "            supplier=str(row[0]).strip()\n",
    "            cost=str(row[3]).strip('$').replace(',','')\n",
    "            if supplier=='A' and float(cost)>=600000.0:\n",
    "                print(row)\n",
    "                filewriter.writerow(row)"
   ]
  },
  {
   "cell_type": "code",
   "execution_count": 25,
   "metadata": {},
   "outputs": [
    {
     "name": "stdout",
     "output_type": "stream",
     "text": [
      "  Supplier Name Invoice Number  Part Number      Cost Purchase Date\n",
      "2             A       001-1001         5407  750000.0    2014-01-20\n",
      "3             A       001-1001         2341  750000.0    2014-01-20\n"
     ]
    }
   ],
   "source": [
    "#판다스 처리\n",
    "output_file=\"data/output5.csv\"\n",
    "df=pd.read_csv(input_file)\n",
    "df['Cost']=df['Cost'].str.strip('$').str.replace(',','').astype(float)\n",
    "result=df.loc[(df['Supplier Name'].str.contains('A'))&(df['Cost']>600000.0),:]\n",
    "print(result)\n",
    "result.to_csv(output_file,index=False)"
   ]
  }
 ],
 "metadata": {
  "kernelspec": {
   "display_name": "Python 3",
   "language": "python",
   "name": "python3"
  },
  "language_info": {
   "codemirror_mode": {
    "name": "ipython",
    "version": 3
   },
   "file_extension": ".py",
   "mimetype": "text/x-python",
   "name": "python",
   "nbconvert_exporter": "python",
   "pygments_lexer": "ipython3",
   "version": "3.7.4"
  }
 },
 "nbformat": 4,
 "nbformat_minor": 2
}
