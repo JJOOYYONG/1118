{
 "cells": [
  {
   "cell_type": "code",
   "execution_count": 2,
   "metadata": {},
   "outputs": [],
   "source": [
    "import numpy as np\n",
    "#넘파이"
   ]
  },
  {
   "cell_type": "code",
   "execution_count": 3,
   "metadata": {},
   "outputs": [
    {
     "name": "stdout",
     "output_type": "stream",
     "text": [
      "[0.33405466 0.4827559  0.76438098 0.46372662 0.05631761 0.88459638\n",
      " 0.94631177 0.44220109 0.2694387  0.40370112]\n"
     ]
    }
   ],
   "source": [
    "#10개의 난수 생성\n",
    "data=np.random.rand(10)\n",
    "print(data)"
   ]
  },
  {
   "cell_type": "code",
   "execution_count": 8,
   "metadata": {},
   "outputs": [
    {
     "name": "stdout",
     "output_type": "stream",
     "text": [
      "[1, 2, 3, 4, 5]\n",
      "[1 2 3 4 5]\n",
      "<class 'list'>\n",
      "<class 'numpy.ndarray'>\n",
      "(5,)\n"
     ]
    }
   ],
   "source": [
    "data1=[1,2,3,4,5]\n",
    "arr1=np.array(data1)\n",
    "print(data1)\n",
    "print(arr1)\n",
    "print(type(data1))\n",
    "print(type(arr1))\n",
    "print(arr1.shape)"
   ]
  },
  {
   "cell_type": "code",
   "execution_count": 11,
   "metadata": {},
   "outputs": [
    {
     "name": "stdout",
     "output_type": "stream",
     "text": [
      "[[1 2 3]\n",
      " [4 5 6]]\n",
      "<class 'numpy.ndarray'>\n",
      "(2, 3)\n"
     ]
    }
   ],
   "source": [
    "data2=[[1,2,3],[4,5,6]]\n",
    "arr2=np.array(data2)\n",
    "print(arr2)\n",
    "print(type(arr2))\n",
    "print(arr2.shape)"
   ]
  },
  {
   "cell_type": "code",
   "execution_count": 16,
   "metadata": {},
   "outputs": [
    {
     "name": "stdout",
     "output_type": "stream",
     "text": [
      "[0.20229586 0.85386162 0.69582394 0.41814717 0.61954427]\n",
      "[0.89936932 0.22790315 0.71936915 0.66388853 0.39788981]\n",
      "[0.89936932 0.85386162 0.71936915 0.66388853 0.61954427]\n",
      "[0.20229586 0.22790315 0.69582394 0.41814717 0.39788981]\n"
     ]
    }
   ],
   "source": [
    "x=np.random.rand(5)\n",
    "y=np.random.rand(5)\n",
    "z=np.maximum(x,y)\n",
    "z2=np.minimum(x,y)\n",
    "print(x);print(y);print(z);print(z2)"
   ]
  },
  {
   "cell_type": "code",
   "execution_count": 18,
   "metadata": {},
   "outputs": [
    {
     "name": "stdout",
     "output_type": "stream",
     "text": [
      "[0.8993693217351151, 0.8538616236206072, 0.7193691502725115, 0.6638885311213787, 0.619544271861304]\n"
     ]
    }
   ],
   "source": [
    "z=[]\n",
    "\n",
    "for i in range(0,5,1):\n",
    "    if(x[i]>y[i]):\n",
    "        z.append(x[i])\n",
    "    else:\n",
    "        z.append(y[i])\n",
    "print(z)        \n"
   ]
  },
  {
   "cell_type": "code",
   "execution_count": 26,
   "metadata": {},
   "outputs": [
    {
     "name": "stdout",
     "output_type": "stream",
     "text": [
      "[[4 2 8]\n",
      " [5 1 6]\n",
      " [7 3 9]]\n"
     ]
    }
   ],
   "source": [
    "data=[[4,2,8],[5,1,6],[7,3,9]]\n",
    "arr1=np.array(data)\n",
    "print(arr1)"
   ]
  },
  {
   "cell_type": "code",
   "execution_count": 29,
   "metadata": {},
   "outputs": [
    {
     "name": "stdout",
     "output_type": "stream",
     "text": [
      "45\n",
      "5.0\n",
      "[16  6 23]\n",
      "[14 12 19]\n",
      "[[2 4 8]\n",
      " [1 5 6]\n",
      " [3 7 9]]\n"
     ]
    }
   ],
   "source": [
    "print(arr1.sum())\n",
    "print(arr1.mean())\n",
    "print(arr1.sum(axis=0))\n",
    "print(arr1.sum(axis=1))\n",
    "#행(axis=0),열(axis=1) 정렬\n",
    "print(np.sort(arr1,axis=1))"
   ]
  },
  {
   "cell_type": "code",
   "execution_count": 30,
   "metadata": {},
   "outputs": [
    {
     "name": "stdout",
     "output_type": "stream",
     "text": [
      "[1 2 1 3 2]\n"
     ]
    }
   ],
   "source": [
    "data=[1,2,1,3,2]\n",
    "arr1=np.array(data)\n",
    "print(arr1)"
   ]
  },
  {
   "cell_type": "code",
   "execution_count": 31,
   "metadata": {},
   "outputs": [
    {
     "name": "stdout",
     "output_type": "stream",
     "text": [
      "[1 2 3]\n"
     ]
    }
   ],
   "source": [
    "print(np.unique(arr1))"
   ]
  }
 ],
 "metadata": {
  "kernelspec": {
   "display_name": "Python 3",
   "language": "python",
   "name": "python3"
  },
  "language_info": {
   "codemirror_mode": {
    "name": "ipython",
    "version": 3
   },
   "file_extension": ".py",
   "mimetype": "text/x-python",
   "name": "python",
   "nbconvert_exporter": "python",
   "pygments_lexer": "ipython3",
   "version": "3.7.4"
  }
 },
 "nbformat": 4,
 "nbformat_minor": 2
}
