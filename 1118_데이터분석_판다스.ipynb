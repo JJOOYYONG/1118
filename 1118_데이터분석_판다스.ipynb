{
 "cells": [
  {
   "cell_type": "code",
   "execution_count": 1,
   "metadata": {},
   "outputs": [],
   "source": [
    "#판다스\n",
    "#높은 수즌의 성능 대량의 데이터를 빠른속도로 처리 가능\n",
    "#series - 1치원 배열 , dataframe-2차원배열, 표 형태\n",
    "import numpy as np\n",
    "import pandas as pd"
   ]
  },
  {
   "cell_type": "code",
   "execution_count": 7,
   "metadata": {
    "scrolled": true
   },
   "outputs": [
    {
     "name": "stdout",
     "output_type": "stream",
     "text": [
      "0    1\n",
      "1    2\n",
      "2    3\n",
      "3    4\n",
      "4    5\n",
      "dtype: int64\n",
      "RangeIndex(start=0, stop=5, step=1)\n",
      "[1 2 3 4 5]\n",
      "int64\n",
      "<class 'pandas.core.series.Series'>\n"
     ]
    }
   ],
   "source": [
    "obj=pd.Series([1,2,3,4,5])\n",
    "print(obj)\n",
    "print(obj.index)\n",
    "print(obj.values)\n",
    "print(obj.dtype)\n",
    "print(type(obj))"
   ]
  },
  {
   "cell_type": "code",
   "execution_count": 11,
   "metadata": {},
   "outputs": [
    {
     "name": "stdout",
     "output_type": "stream",
     "text": [
      "a    4\n",
      "b    5\n",
      "c    7\n",
      "d    1\n",
      "e    3\n",
      "dtype: int64\n",
      "Index(['a', 'b', 'c', 'd', 'e'], dtype='object')\n",
      "a    4\n",
      "b    5\n",
      "c    7\n",
      "d    1\n",
      "e    3\n",
      "Name: Series, dtype: int64\n"
     ]
    }
   ],
   "source": [
    "obj2=pd.Series([4,5,7,1,3],index=['a','b','c','d','e'])\n",
    "print(obj2)\n",
    "print(obj2.index)\n",
    "obj2.name=\"Series\"\n",
    "obj.index.name=\"Name\"\n",
    "print(obj2)"
   ]
  },
  {
   "cell_type": "code",
   "execution_count": 18,
   "metadata": {},
   "outputs": [
    {
     "name": "stdout",
     "output_type": "stream",
     "text": [
      "Lee     50\n",
      "Kim     85\n",
      "Park    70\n",
      "dtype: int64\n",
      "50\n",
      "Lee     50\n",
      "Park    70\n",
      "dtype: int64\n"
     ]
    }
   ],
   "source": [
    "stata={'Lee':50,'Kim':85,'Park':70}\n",
    "obj3=pd.Series(stata)\n",
    "print(obj3)\n",
    "print(obj3['Lee'])\n",
    "print(obj3[['Lee','Park']])"
   ]
  }
 ],
 "metadata": {
  "kernelspec": {
   "display_name": "Python 3",
   "language": "python",
   "name": "python3"
  },
  "language_info": {
   "codemirror_mode": {
    "name": "ipython",
    "version": 3
   },
   "file_extension": ".py",
   "mimetype": "text/x-python",
   "name": "python",
   "nbconvert_exporter": "python",
   "pygments_lexer": "ipython3",
   "version": "3.7.4"
  }
 },
 "nbformat": 4,
 "nbformat_minor": 2
}
